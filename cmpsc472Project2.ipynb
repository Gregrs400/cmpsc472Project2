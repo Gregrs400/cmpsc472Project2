{
  "nbformat": 4,
  "nbformat_minor": 0,
  "metadata": {
    "colab": {
      "provenance": [],
      "authorship_tag": "ABX9TyPJ548Sedh7zoS6eyy7IFBZ",
      "include_colab_link": true
    },
    "kernelspec": {
      "name": "python3",
      "display_name": "Python 3"
    },
    "language_info": {
      "name": "python"
    }
  },
  "cells": [
    {
      "cell_type": "markdown",
      "metadata": {
        "id": "view-in-github",
        "colab_type": "text"
      },
      "source": [
        "<a href=\"https://colab.research.google.com/github/Gregrs400/cmpsc472Project2/blob/main/cmpsc472Project2.ipynb\" target=\"_parent\"><img src=\"https://colab.research.google.com/assets/colab-badge.svg\" alt=\"Open In Colab\"/></a>"
      ]
    },
    {
      "cell_type": "code",
      "execution_count": 7,
      "metadata": {
        "colab": {
          "base_uri": "https://localhost:8080/"
        },
        "id": "jGIpXJXzIRwV",
        "outputId": "0eb78aa9-e84a-42a8-ebe9-6f7c19ffc44a"
      },
      "outputs": [
        {
          "output_type": "stream",
          "name": "stdout",
          "text": [
            "Overwriting cmpsc472Project2.c\n"
          ]
        }
      ],
      "source": [
        "%%writefile cmpsc472Project2.c\n",
        "#include <stdio.h>\n",
        "#include <stdlib.h>\n",
        "#include <string.h>\n",
        "#include <unistd.h>\n",
        "#include <sys/wait.h>\n",
        "#include <sys/time.h>\n",
        "#include <sys/resource.h>\n",
        "\n",
        "int main() {\n",
        "  // Create array to represent the landscape\n",
        "  int landscape[20][20];\n",
        "  // Fill array with 0's\n",
        "  for (int i = 0; i < 20; i++) {\n",
        "    for (int j = 0; j < 20; j++) {\n",
        "      landscape[i][j] = 0;\n",
        "    }\n",
        "  }\n",
        "  printf(\"array value at position 12,15: %d\", landscape[12][15]);\n",
        "  return 0;\n",
        "}"
      ]
    },
    {
      "cell_type": "code",
      "source": [
        "%%shell\n",
        "gcc cmpsc472Project2.c -o cmpsc472Project2\n",
        "./cmpsc472Project2"
      ],
      "metadata": {
        "colab": {
          "base_uri": "https://localhost:8080/"
        },
        "id": "GSlicNSKI0Dq",
        "outputId": "85aa1e31-c4b0-4bbc-e1ad-0a3837cfc7fa"
      },
      "execution_count": 8,
      "outputs": [
        {
          "output_type": "stream",
          "name": "stdout",
          "text": [
            "array value at position 12,15: 0"
          ]
        },
        {
          "output_type": "execute_result",
          "data": {
            "text/plain": []
          },
          "metadata": {},
          "execution_count": 8
        }
      ]
    }
  ]
}