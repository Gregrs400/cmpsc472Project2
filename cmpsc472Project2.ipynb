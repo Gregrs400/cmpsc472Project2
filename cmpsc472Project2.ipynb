{
  "nbformat": 4,
  "nbformat_minor": 0,
  "metadata": {
    "colab": {
      "provenance": [],
      "authorship_tag": "ABX9TyPY3RtB/5oqc/VYRddh7sxA",
      "include_colab_link": true
    },
    "kernelspec": {
      "name": "python3",
      "display_name": "Python 3"
    },
    "language_info": {
      "name": "python"
    }
  },
  "cells": [
    {
      "cell_type": "markdown",
      "metadata": {
        "id": "view-in-github",
        "colab_type": "text"
      },
      "source": [
        "<a href=\"https://colab.research.google.com/github/Gregrs400/cmpsc472Project2/blob/set-fire/cmpsc472Project2.ipynb\" target=\"_parent\"><img src=\"https://colab.research.google.com/assets/colab-badge.svg\" alt=\"Open In Colab\"/></a>"
      ]
    },
    {
      "cell_type": "code",
      "execution_count": 93,
      "metadata": {
        "colab": {
          "base_uri": "https://localhost:8080/"
        },
        "id": "jGIpXJXzIRwV",
        "outputId": "e797c0e3-dcce-47f9-c81d-0af7e96b76a7"
      },
      "outputs": [
        {
          "output_type": "stream",
          "name": "stdout",
          "text": [
            "Overwriting cmpsc472Project2.c\n"
          ]
        }
      ],
      "source": [
        "%%writefile cmpsc472Project2.c\n",
        "#include <stdio.h>\n",
        "#include <stdlib.h>\n",
        "#include <string.h>\n",
        "#include <unistd.h>\n",
        "#include <sys/wait.h>\n",
        "#include <sys/time.h>\n",
        "#include <sys/resource.h>\n",
        "#include <time.h>\n",
        "\n",
        "/*\n",
        "  TODO:\n",
        "  - add functionality to have this function wait an arbitrary amount of time before randomly setting another position equal to 1.\n",
        "*/\n",
        "// Function to set a random position in the array to 1, which represents a wildfire.\n",
        "void setFire(int array[20][20], int min, int max) {\n",
        "  // Seed the random number generator\n",
        "  srand(time(NULL));\n",
        "  // Randomly select a row\n",
        "  int row = rand() % (max - min + 1) + min;\n",
        "  // Randomly select a column\n",
        "  int col = rand() % (max - min + 1) + min;\n",
        "  // Set the value at the selected row and column to 1\n",
        "  array[row][col] = 1;\n",
        "  printf(\"array value at position %d,%d: %d\", row, col, array[row][col]);\n",
        "}\n",
        "\n",
        "// Prints out the entire landscape array.\n",
        "void printLandscape(int array[20][20]) {\n",
        "  for (int i = 0; i < 20; i++) {\n",
        "    for (int j = 0; j < 20; j++) {\n",
        "      printf(\"%d, \", array[i][j]);\n",
        "    }\n",
        "    // Print a newline at the end of each row.\n",
        "    printf(\"\\n\");\n",
        "  }\n",
        "}\n",
        "\n",
        "\n",
        "int main() {\n",
        "  // Define number of rows\n",
        "  int rows = 20;\n",
        "  // Define number of columns\n",
        "  int columns = 20;\n",
        "  // Create array to represent the landscape\n",
        "  int landscape[rows][columns];\n",
        "  // Fill array with 0's\n",
        "  for (int i = 0; i < rows; i++) {\n",
        "    for (int j = 0; j < columns; j++) {\n",
        "      landscape[i][j] = 0;\n",
        "    }\n",
        "  }\n",
        "  //printf(\"array value at position 12,15: %d\", landscape[12][15]);\n",
        "  setFire(landscape, 0, 19);\n",
        "  printf(\"\\n\");\n",
        "  printLandscape(landscape);\n",
        "  return 0;\n",
        "}\n"
      ]
    },
    {
      "cell_type": "code",
      "source": [
        "%%shell\n",
        "gcc cmpsc472Project2.c -o cmpsc472Project2\n",
        "./cmpsc472Project2"
      ],
      "metadata": {
        "colab": {
          "base_uri": "https://localhost:8080/"
        },
        "id": "GSlicNSKI0Dq",
        "outputId": "ee51cf8f-5168-405f-cdbf-16c76867e918"
      },
      "execution_count": 98,
      "outputs": [
        {
          "output_type": "stream",
          "name": "stdout",
          "text": [
            "array value at position 12,17: 1\n",
            "0, 0, 0, 0, 0, 0, 0, 0, 0, 0, 0, 0, 0, 0, 0, 0, 0, 0, 0, 0, \n",
            "0, 0, 0, 0, 0, 0, 0, 0, 0, 0, 0, 0, 0, 0, 0, 0, 0, 0, 0, 0, \n",
            "0, 0, 0, 0, 0, 0, 0, 0, 0, 0, 0, 0, 0, 0, 0, 0, 0, 0, 0, 0, \n",
            "0, 0, 0, 0, 0, 0, 0, 0, 0, 0, 0, 0, 0, 0, 0, 0, 0, 0, 0, 0, \n",
            "0, 0, 0, 0, 0, 0, 0, 0, 0, 0, 0, 0, 0, 0, 0, 0, 0, 0, 0, 0, \n",
            "0, 0, 0, 0, 0, 0, 0, 0, 0, 0, 0, 0, 0, 0, 0, 0, 0, 0, 0, 0, \n",
            "0, 0, 0, 0, 0, 0, 0, 0, 0, 0, 0, 0, 0, 0, 0, 0, 0, 0, 0, 0, \n",
            "0, 0, 0, 0, 0, 0, 0, 0, 0, 0, 0, 0, 0, 0, 0, 0, 0, 0, 0, 0, \n",
            "0, 0, 0, 0, 0, 0, 0, 0, 0, 0, 0, 0, 0, 0, 0, 0, 0, 0, 0, 0, \n",
            "0, 0, 0, 0, 0, 0, 0, 0, 0, 0, 0, 0, 0, 0, 0, 0, 0, 0, 0, 0, \n",
            "0, 0, 0, 0, 0, 0, 0, 0, 0, 0, 0, 0, 0, 0, 0, 0, 0, 0, 0, 0, \n",
            "0, 0, 0, 0, 0, 0, 0, 0, 0, 0, 0, 0, 0, 0, 0, 0, 0, 0, 0, 0, \n",
            "0, 0, 0, 0, 0, 0, 0, 0, 0, 0, 0, 0, 0, 0, 0, 0, 0, 1, 0, 0, \n",
            "0, 0, 0, 0, 0, 0, 0, 0, 0, 0, 0, 0, 0, 0, 0, 0, 0, 0, 0, 0, \n",
            "0, 0, 0, 0, 0, 0, 0, 0, 0, 0, 0, 0, 0, 0, 0, 0, 0, 0, 0, 0, \n",
            "0, 0, 0, 0, 0, 0, 0, 0, 0, 0, 0, 0, 0, 0, 0, 0, 0, 0, 0, 0, \n",
            "0, 0, 0, 0, 0, 0, 0, 0, 0, 0, 0, 0, 0, 0, 0, 0, 0, 0, 0, 0, \n",
            "0, 0, 0, 0, 0, 0, 0, 0, 0, 0, 0, 0, 0, 0, 0, 0, 0, 0, 0, 0, \n",
            "0, 0, 0, 0, 0, 0, 0, 0, 0, 0, 0, 0, 0, 0, 0, 0, 0, 0, 0, 0, \n",
            "0, 0, 0, 0, 0, 0, 0, 0, 0, 0, 0, 0, 0, 0, 0, 0, 0, 0, 0, 0, \n"
          ]
        },
        {
          "output_type": "execute_result",
          "data": {
            "text/plain": []
          },
          "metadata": {},
          "execution_count": 98
        }
      ]
    }
  ]
}