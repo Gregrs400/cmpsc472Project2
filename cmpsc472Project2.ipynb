{
  "nbformat": 4,
  "nbformat_minor": 0,
  "metadata": {
    "colab": {
      "provenance": [],
      "authorship_tag": "ABX9TyMhirnhM6DHZ06eN6fKx80o",
      "include_colab_link": true
    },
    "kernelspec": {
      "name": "python3",
      "display_name": "Python 3"
    },
    "language_info": {
      "name": "python"
    }
  },
  "cells": [
    {
      "cell_type": "markdown",
      "metadata": {
        "id": "view-in-github",
        "colab_type": "text"
      },
      "source": [
        "<a href=\"https://colab.research.google.com/github/Gregrs400/cmpsc472Project2/blob/set-fire/cmpsc472Project2.ipynb\" target=\"_parent\"><img src=\"https://colab.research.google.com/assets/colab-badge.svg\" alt=\"Open In Colab\"/></a>"
      ]
    },
    {
      "cell_type": "code",
      "execution_count": 19,
      "metadata": {
        "colab": {
          "base_uri": "https://localhost:8080/"
        },
        "id": "jGIpXJXzIRwV",
        "outputId": "bd631e14-cd7b-4489-a215-5728c2d96b0b"
      },
      "outputs": [
        {
          "output_type": "stream",
          "name": "stdout",
          "text": [
            "Overwriting cmpsc472Project2.c\n"
          ]
        }
      ],
      "source": [
        "%%writefile cmpsc472Project2.c\n",
        "#include <stdio.h>\n",
        "#include <stdlib.h>\n",
        "#include <string.h>\n",
        "#include <unistd.h>\n",
        "#include <sys/wait.h>\n",
        "#include <sys/time.h>\n",
        "#include <sys/resource.h>\n",
        "\n",
        "\n",
        "/*\n",
        "  TODO:\n",
        "  - add functionality to have this function wait an arbitrary amount of time before randomly setting another position equal to 1.\n",
        "*/\n",
        "void setFire(int array[20][20], int max, int min) {\n",
        "  // Randomly select a row\n",
        "  int row = rand() % (max - min + 1) + min;\n",
        "  // Randomly select a column\n",
        "  int col = rand() % (max - min + 1) + min;\n",
        "  // Set the value at the selected row and column to 1\n",
        "  array[row][col] = 1;\n",
        "  printf(\"array value at position row,col: %d\", array[row][col]);\n",
        "}\n",
        "\n",
        "\n",
        "int main() {\n",
        "  // Define number of rows\n",
        "  int rows = 20;\n",
        "  // Define number of columns\n",
        "  int columns = 20;\n",
        "  // Create array to represent the landscape\n",
        "  int landscape[rows][columns];\n",
        "  // Fill array with 0's\n",
        "  for (int i = 0; i < rows; i++) {\n",
        "    for (int j = 0; j < columns; j++) {\n",
        "      landscape[i][j] = 0;\n",
        "    }\n",
        "  }\n",
        "  printf(\"array value at position 12,15: %d\", landscape[12][15]);\n",
        "  setFire(landscape, rows, columns);\n",
        "  return 0;\n",
        "}\n"
      ]
    },
    {
      "cell_type": "code",
      "source": [
        "%%shell\n",
        "gcc cmpsc472Project2.c -o cmpsc472Project2\n",
        "./cmpsc472Project2"
      ],
      "metadata": {
        "colab": {
          "base_uri": "https://localhost:8080/"
        },
        "id": "GSlicNSKI0Dq",
        "outputId": "100df86c-d8ed-4558-c5d7-70d7a07cbbe6"
      },
      "execution_count": 20,
      "outputs": [
        {
          "output_type": "stream",
          "name": "stdout",
          "text": [
            "array value at position 12,15: 0array value at position row,col: 1"
          ]
        },
        {
          "output_type": "execute_result",
          "data": {
            "text/plain": []
          },
          "metadata": {},
          "execution_count": 20
        }
      ]
    }
  ]
}